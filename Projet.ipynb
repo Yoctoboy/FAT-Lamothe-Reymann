{
 "cells": [
  {
   "cell_type": "markdown",
   "metadata": {
    "collapsed": true,
    "deletable": true,
    "editable": true
   },
   "source": [
    "## Projet de Files d'Attente - MPRO"
   ]
  },
  {
   "cell_type": "markdown",
   "metadata": {
    "deletable": true,
    "editable": true
   },
   "source": [
    "### François Lamothe & Alexis Reymann"
   ]
  },
  {
   "cell_type": "markdown",
   "metadata": {
    "deletable": true,
    "editable": true
   },
   "source": [
    "#### 0 - Imports"
   ]
  },
  {
   "cell_type": "code",
   "execution_count": null,
   "metadata": {
    "collapsed": true,
    "deletable": true,
    "editable": true
   },
   "outputs": [],
   "source": [
    "import numpy as np\n",
    "import matplotlib.pyplot as plt\n",
    "import heapq as hp"
   ]
  },
  {
   "cell_type": "markdown",
   "metadata": {
    "deletable": true,
    "editable": true
   },
   "source": [
    "####  1 - Définition des classes"
   ]
  },
  {
   "cell_type": "markdown",
   "metadata": {
    "deletable": true,
    "editable": true
   },
   "source": [
    "On définit premièrement les classes Station et Event. Une station $i$ contient un nombre de places, une intensité d'arrivées de clients, ainsi qu'une liste de probabilités de trajet de la station $i$ aux autres stations. Les events sont les trajets entre stations et les arrivées de nouveaux clients aux stations. Ils sont stockés dans une queue de priorités en fonction du moment auquel ils vont se produire. Ils contiennent un temps et une station d'arrivée."
   ]
  },
  {
   "cell_type": "code",
   "execution_count": null,
   "metadata": {
    "collapsed": true,
    "deletable": true,
    "editable": true
   },
   "outputs": [],
   "source": [
    "class Station:\n",
    "    \n",
    "    def __init__(self, _id, _nb_places, _client_intensity, _initial_fullness, _probabilities_of_target_station):\n",
    "        self.id = _id\n",
    "        self.nb_places = _nb_places\n",
    "        self.client_intensity = _client_intensity\n",
    "        self.nb_used_places = _initial_fullness\n",
    "        self.probabilities_of_target_station = _probabilities_of_target_station\n",
    "        \n",
    "\n",
    "class Event:\n",
    "    \n",
    "    def __init__(self, _name, _time, _station, _target_station = None):\n",
    "        self.name = _name\n",
    "        self.time = _time\n",
    "        self.station = _station\n",
    "        self.target_station = _target_station\n",
    "    \n",
    "    def __lt__(self,other):\n",
    "        return (self.time < other.time)\n",
    "\n",
    "    def __str__(self): #Overload print(Event e)\n",
    "        if self.name == \"Pedestrian arrival\":\n",
    "            return \"Event Pedestrian : Time={0:.3f} - At S{1}\".format(self.time, self.station.id)\n",
    "        elif self.name == \"Bike arrival\":\n",
    "            return \"Event Bike       : Time={0:.3f} - From S{1} to S{2}\".format(self.time, self.station.id, self.target_station.id)\n",
    "\n",
    "    \n",
    "    def handle(self, list_stations, mean_travel_times, verbose):\n",
    "        new_events = []\n",
    "        if self.name == \"Pedestrian arrival\":\n",
    "            pedestrian_arrivals_total[self.station.id-3] += 1\n",
    "            if self.station.nb_used_places > 0 :\n",
    "                destination = np.random.choice(list_stations, p = self.station.probabilities_of_target_station)\n",
    "                mtt = mean_travel_times[self.station.id-3][destination.id-3]\n",
    "                new_events.append(Event(\"Bike arrival\", self.time + np.random.exponential(mtt/60), self.station, destination))\n",
    "                self.station.nb_used_places -= 1\n",
    "            else:\n",
    "                if(verbose):\n",
    "                    print(\"-->station vide\")\n",
    "                pedestrian_arrivals_lost[self.station.id-3] += 1\n",
    "            new_events.append(Event(\"Pedestrian arrival\", self.time + np.random.exponential(self.station.client_intensity), self.station))\n",
    "            \n",
    "        \n",
    "        if self.name == \"Bike arrival\":\n",
    "            bike_arrivals_total[self.target_station.id-3] += 1\n",
    "            if self.target_station.nb_places > self.target_station.nb_used_places:\n",
    "                self.target_station.nb_used_places += 1\n",
    "            else:\n",
    "                if(verbose):\n",
    "                    print(\"-->station pleine\")\n",
    "                bike_arrivals_lost[self.target_station.id-3] += 1\n",
    "                destination = np.random.choice(list_stations, p = self.target_station.probabilities_of_target_station)\n",
    "                mtt = mean_travel_times[self.target_station.id-3][destination.id-3]\n",
    "                new_events.append(Event(\"Bike arrival\", self.time + np.random.exponential(mtt/60), self.target_station, destination))\n",
    "        \n",
    "        return new_events"
   ]
  },
  {
   "cell_type": "markdown",
   "metadata": {
    "deletable": true,
    "editable": true
   },
   "source": [
    "#### 2 - Données en entrée"
   ]
  },
  {
   "cell_type": "markdown",
   "metadata": {
    "deletable": true,
    "editable": true
   },
   "source": [
    "On utilise les données fournies dans le fichier <code>velib_data_simulation</code>."
   ]
  },
  {
   "cell_type": "code",
   "execution_count": null,
   "metadata": {
    "collapsed": true,
    "deletable": true,
    "editable": true
   },
   "outputs": [],
   "source": [
    "nb_places = [24,20,20,15,20]\n",
    "initial_fullness = [20,15,17,13,18]\n",
    "client_intensities = [1/2.8, 1/3.7, 1/5.5, 1/3.5, 1/4.6]\n",
    "list_probabilities_of_target_station = [[0,    0.2,  0.3,  0.2,  0.3 ],\n",
    "                                        [0.2,  0,    0.3,  0.2,  0.3 ],\n",
    "                                        [0.2,  0.25, 0,    0.25, 0.3 ],\n",
    "                                        [0.15, 0.2,  0.3,  0,    0.35],\n",
    "                                        [0.2,  0.25, 0.35, 0.2,  0   ]]\n",
    "mean_travel_times = [[0, 3, 5, 7, 7],\n",
    "                     [2, 0, 2, 5, 5],\n",
    "                     [4, 2, 0, 3, 3],\n",
    "                     [8, 6, 4, 0, 2],\n",
    "                     [7, 7, 5, 2, 0]]\n",
    "ending_time = 1000"
   ]
  },
  {
   "cell_type": "markdown",
   "metadata": {
    "deletable": true,
    "editable": true
   },
   "source": [
    "Et on définit les tableaux qui contiendront le nombre d'arrivées et le nombre d'arrivées \"perdues\"."
   ]
  },
  {
   "cell_type": "code",
   "execution_count": null,
   "metadata": {
    "collapsed": true,
    "deletable": true,
    "editable": true
   },
   "outputs": [],
   "source": [
    "bike_arrivals_total = np.zeros(5)\n",
    "pedestrian_arrivals_total = np.zeros(5)\n",
    "bike_arrivals_lost = np.zeros(5)\n",
    "pedestrian_arrivals_lost = np.zeros(5)"
   ]
  },
  {
   "cell_type": "markdown",
   "metadata": {
    "deletable": true,
    "editable": true
   },
   "source": [
    "#### 3 - Simulation"
   ]
  },
  {
   "cell_type": "markdown",
   "metadata": {
    "deletable": true,
    "editable": true
   },
   "source": [
    "On définit ensuite la fonction qui va simuler les trajets entre les stations. La queue des événements est initialisée avec une arrivée de clients à chacune des stations. Ces arrivées suivent une loi exponentielle de paramètre donné dans le tableau <code>time_of_next_arrival_to_station</code>. "
   ]
  },
  {
   "cell_type": "code",
   "execution_count": null,
   "metadata": {
    "collapsed": false,
    "deletable": true,
    "editable": true
   },
   "outputs": [],
   "source": [
    "def simulation(nb_places, client_intensities, mean_travel_times, initial_fullness, ending_time, list_probabilities_of_target_station, verbose = True):\n",
    "    list_stations = []\n",
    "    list_events = []\n",
    "    current_time = 0  \n",
    "    for i in range(len(nb_places)):\n",
    "        list_stations.append(Station(i+3, nb_places[i], client_intensities[i], initial_fullness[i], list_probabilities_of_target_station[i]))\n",
    "    \n",
    "    time_of_next_arrival_to_station = np.random.exponential(client_intensities)\n",
    "    list_events = [Event(\"Pedestrian arrival\", current_time + time_of_next_arrival_to_station[i], list_stations[i]) for i in range(len(list_stations))]\n",
    "    hp.heapify(list_events)\n",
    "    \n",
    "    while not current_time > ending_time:\n",
    "        event = hp.heappop(list_events)\n",
    "        if(verbose):\n",
    "            print(event)\n",
    "        current_time = event.time\n",
    "        list_new_events = event.handle(list_stations, mean_travel_times, verbose)\n",
    "        for new_event in list_new_events:\n",
    "            hp.heappush(list_events, new_event)\n",
    "    \n",
    "    print(\"\\n--- Loss Probabilities ---\\n\")\n",
    "    print(\"Station                  3       4       5       6       7    -  Total\\n\")\n",
    "    print(\"Bike arrivals :       {0:.5f} {1:.5f} {2:.5f} {3:.5f} {4:.5f} - {5:.5f}\\n\".format(bike_arrivals_lost[0]/bike_arrivals_total[0],\n",
    "                                                                                             bike_arrivals_lost[1]/bike_arrivals_total[1],\n",
    "                                                                                             bike_arrivals_lost[2]/bike_arrivals_total[2],\n",
    "                                                                                             bike_arrivals_lost[3]/bike_arrivals_total[3],\n",
    "                                                                                             bike_arrivals_lost[4]/bike_arrivals_total[4],\n",
    "                                                                                             sum(bike_arrivals_lost)/sum(bike_arrivals_total)))\n",
    "    print(\"Pedestrian arrivals : {0:.5f} {1:.5f} {2:.5f} {3:.5f} {4:.5f} - {5:.5f}\\n\".format(pedestrian_arrivals_lost[0]/pedestrian_arrivals_total[0],\n",
    "                                                                                             pedestrian_arrivals_lost[1]/pedestrian_arrivals_total[1],\n",
    "                                                                                             pedestrian_arrivals_lost[2]/pedestrian_arrivals_total[2],\n",
    "                                                                                             pedestrian_arrivals_lost[3]/pedestrian_arrivals_total[3],\n",
    "                                                                                             pedestrian_arrivals_lost[4]/pedestrian_arrivals_total[4],\n",
    "                                                                                             sum(pedestrian_arrivals_lost)/sum(pedestrian_arrivals_total)))\n",
    "    print(\"Total :               {0:.5f} {1:.5f} {2:.5f} {3:.5f} {4:.5f} - {5:.5f}\\n\".format((bike_arrivals_lost[0]+pedestrian_arrivals_lost[0])/(bike_arrivals_total[0]+pedestrian_arrivals_total[0]),\n",
    "                                                                                             (bike_arrivals_lost[1]+pedestrian_arrivals_lost[1])/(bike_arrivals_total[1]+pedestrian_arrivals_total[1]),\n",
    "                                                                                             (bike_arrivals_lost[2]+pedestrian_arrivals_lost[2])/(bike_arrivals_total[2]+pedestrian_arrivals_total[2]),\n",
    "                                                                                             (bike_arrivals_lost[3]+pedestrian_arrivals_lost[3])/(bike_arrivals_total[3]+pedestrian_arrivals_total[3]),\n",
    "                                                                                             (bike_arrivals_lost[4]+pedestrian_arrivals_lost[4])/(bike_arrivals_total[4]+pedestrian_arrivals_total[4]),\n",
    "                                                                                             (sum(bike_arrivals_lost)+sum(pedestrian_arrivals_lost))/(sum(pedestrian_arrivals_total)+sum(bike_arrivals_total))))"
   ]
  },
  {
   "cell_type": "markdown",
   "metadata": {
    "deletable": true,
    "editable": true
   },
   "source": [
    "Lancement de la simulation :"
   ]
  },
  {
   "cell_type": "code",
   "execution_count": null,
   "metadata": {
    "collapsed": false,
    "deletable": true,
    "editable": true,
    "scrolled": true
   },
   "outputs": [],
   "source": [
    "simulation(nb_places, client_intensities, mean_travel_times, initial_fullness, ending_time, list_probabilities_of_target_station, verbose = False)"
   ]
  },
  {
   "cell_type": "code",
   "execution_count": null,
   "metadata": {
    "collapsed": true
   },
   "outputs": [],
   "source": []
  }
 ],
 "metadata": {
  "kernelspec": {
   "display_name": "Python 3",
   "language": "python",
   "name": "python3"
  },
  "language_info": {
   "codemirror_mode": {
    "name": "ipython",
    "version": 3
   },
   "file_extension": ".py",
   "mimetype": "text/x-python",
   "name": "python",
   "nbconvert_exporter": "python",
   "pygments_lexer": "ipython3",
   "version": "3.5.2"
  }
 },
 "nbformat": 4,
 "nbformat_minor": 2
}
