{
 "cells": [
  {
   "cell_type": "markdown",
   "metadata": {
    "collapsed": true,
    "deletable": true,
    "editable": true
   },
   "source": [
    "## Projet de Files d'Attente - MPRO"
   ]
  },
  {
   "cell_type": "markdown",
   "metadata": {},
   "source": [
    "### François Lamothe & Alexis Reymann"
   ]
  },
  {
   "cell_type": "markdown",
   "metadata": {},
   "source": [
    "#### 0 - Imports"
   ]
  },
  {
   "cell_type": "code",
   "execution_count": 1,
   "metadata": {
    "collapsed": true
   },
   "outputs": [],
   "source": [
    "import numpy as np\n",
    "import matplotlib.pyplot as plt\n",
    "import heapq as hp"
   ]
  },
  {
   "cell_type": "markdown",
   "metadata": {},
   "source": [
    "####  1 - Définition des classes"
   ]
  },
  {
   "cell_type": "markdown",
   "metadata": {},
   "source": [
    "On définit premièrement les classes Station et Event. Une station $i$ contient un nombre de places, une intensité d'arrivées de clients, ainsi qu'une liste de probabilités de trajet de la station $i$ aux autres stations. Les events sont les trajets entre stations et les arrivées de nouveaux clients aux stations. Ils sont stockés dans une queue de priorités en fonction du moment auquel ils vont se produire. Ils contiennent un temps et une station d'arrivée."
   ]
  },
  {
   "cell_type": "code",
   "execution_count": 2,
   "metadata": {
    "collapsed": true
   },
   "outputs": [],
   "source": [
    "class Station:\n",
    "    \n",
    "    def __init__(self, nb_places, client_intensity, probabilities_of_target_station):\n",
    "        self.nb_places = nb_places\n",
    "        self.client_intensity = client_intensity\n",
    "        self.nb_used_places = 0\n",
    "        self.probabilities_of_target_station = probabilities_of_target_station\n",
    "        \n",
    "\n",
    "class Event:\n",
    "    \n",
    "    def __init__(self, name, time, station, target_station = None):\n",
    "        self.name = name\n",
    "        self.time = time\n",
    "        self.station = station\n",
    "        self.target_station = target_station\n",
    "    \n",
    "    def __lt__(self,other):\n",
    "        return (self.time < other.time)\n",
    "    \n",
    "    def handle(self, list_stations, mean_travel_times):\n",
    "        new_events = []\n",
    "        if self.name == \"Arrival to station\":\n",
    "            if self.station.nb_used_places > 0 :\n",
    "                destination = np.random.choice(list_stations, p = self.station.probabilities_of_target_station)\n",
    "                mtt = mean_travel_times[list_stations.index(self.station)][list_stations.index(destination)]\n",
    "                new_events.append(Event(\"Bike arrival\", self.time +  np.random.exponential(mtt), self.station, destination))\n",
    "                self.station.nb_used_places -= 1\n",
    "            else:\n",
    "                print(\"station vide\")\n",
    "            new_events.append(Event(\"Arrival to station\", self.time +  np.random.exponential(self.station.client_intensity), self.station))\n",
    "            \n",
    "        \n",
    "        if self.name == \"Bike arrival\":\n",
    "            if self.station.nb_places > self.station.nb_used_places:\n",
    "                self.target_station.nb_used_places += 1\n",
    "            else:\n",
    "                print(\"station pleine\")\n",
    "                destination = np.random.choice(list_stations, p = self.target_station.probabilities_of_target_station)\n",
    "                mtt = mean_travel_times[list_stations.index(self.target_station)][list_stations.index(destination)]\n",
    "                new_events.append(Event(\"Bike arrival\", self.time +  np.random.exponential(mtt), self.target_station, destination))\n",
    "        \n",
    "        return new_events"
   ]
  },
  {
   "cell_type": "markdown",
   "metadata": {},
   "source": [
    "#### 2 - Données en entrée"
   ]
  },
  {
   "cell_type": "markdown",
   "metadata": {},
   "source": [
    "On utilise les données fournies dans le fichier <code>velib_data_simulation</code>."
   ]
  },
  {
   "cell_type": "code",
   "execution_count": null,
   "metadata": {
    "collapsed": true
   },
   "outputs": [],
   "source": [
    "nb_places = [24, 20, 20, 15, 20]\n",
    "initial_fullness = [20, 15, 17, 13, 18]\n",
    "client_intensities = [1/2.8, 1/3.7, 1/5.5, 1/3.5, 1/4.6]\n",
    "list_probabilities_of_target_station = [[0,    0.2,  0.3,  0.2,  0.3 ],\n",
    "                                        [0.2,  0,    0.3,  0.2,  0.3 ],\n",
    "                                        [0.2,  0.25, 0,    0.25, 0.3 ],\n",
    "                                        [0.15, 0.2,  0.3,  0,    0.35],\n",
    "                                        [0.2,  0.25, 0.35, 0.2,  0   ]]\n",
    "mean_travel_times = [[0, 3, 5, 7, 7],\n",
    "                     [2, 0, 2, 5, 5],\n",
    "                     [4, 2, 0, 3, 3],\n",
    "                     [8, 6, 4, 0, 2],\n",
    "                     [7, 7, 5, 2, 0]]\n",
    "ending_time = 100"
   ]
  },
  {
   "cell_type": "markdown",
   "metadata": {},
   "source": [
    "#### 3 - Simulation"
   ]
  },
  {
   "cell_type": "markdown",
   "metadata": {},
   "source": [
    "On définit ensuite la fonction qui va simuler les trajets entre les stations. La queue des événements est initialisée avec une arrivée de clients à chacune des stations. Ces arrivées suivent une loi exponentielle de paramètre donné dans le tableau <code>time_of_next_arrival_to_station</code>. "
   ]
  },
  {
   "cell_type": "code",
   "execution_count": null,
   "metadata": {
    "collapsed": true
   },
   "outputs": [],
   "source": [
    "def simulation(nb_places, client_intensities, mean_travel_times, initial_fullness, ending_time, list_probabilities_of_target_station):\n",
    "    list_events = []\n",
    "    time = 0\n",
    "    list_stations = []\n",
    "    for i in range(len(nb_places)):\n",
    "        list_stations.append(Station(nb_places[i], client_intensities[i], list_probabilities_of_target_station[i]))\n",
    "    \n",
    "    for i in range(len(list_stations)):\n",
    "        list_stations[i].nb_used_places = initial_fullness[i]\n",
    "    \n",
    "    time_of_next_arrival_to_station = np.random.exponential(client_intensities)\n",
    "    list_events = [Event(\"Arrival to station\", time + time_of_next_arrival_to_station[i], list_stations[i]) for i in range(len(list_stations))]\n",
    "    hp.heapify(list_events)\n",
    "    \n",
    "    while not time > ending_time:\n",
    "        event = hp.heappop(list_events)\n",
    "        time = event.time\n",
    "        list_new_events = event.handle(list_stations, mean_travel_times)\n",
    "        for new_event in list_new_events:\n",
    "            hp.heappush(list_events, new_event)"
   ]
  }
 ],
 "metadata": {
  "kernelspec": {
   "display_name": "Python 3",
   "language": "python",
   "name": "python3"
  },
  "language_info": {
   "codemirror_mode": {
    "name": "ipython",
    "version": 3
   },
   "file_extension": ".py",
   "mimetype": "text/x-python",
   "name": "python",
   "nbconvert_exporter": "python",
   "pygments_lexer": "ipython3",
   "version": "3.5.2"
  }
 },
 "nbformat": 4,
 "nbformat_minor": 2
}
